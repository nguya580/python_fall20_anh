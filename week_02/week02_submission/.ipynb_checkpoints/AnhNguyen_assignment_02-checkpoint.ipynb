{
 "cells": [
  {
   "cell_type": "markdown",
   "metadata": {},
   "source": [
    "# Practice Exercise"
   ]
  },
  {
   "cell_type": "markdown",
   "metadata": {},
   "source": [
    "Exercise 1:"
   ]
  },
  {
   "cell_type": "code",
   "execution_count": 1,
   "metadata": {},
   "outputs": [],
   "source": [
    "# using functions and nested functions reformat your calculator code\n",
    "# so users can use our calculator again and again!"
   ]
  },
  {
   "cell_type": "code",
   "execution_count": 7,
   "metadata": {},
   "outputs": [
    {
     "name": "stdout",
     "output_type": "stream",
     "text": [
      "\n",
      " The calculator can perform:\n",
      "-Addition: +\n",
      "-Subtraction: -\n",
      "-Multiply: *\n",
      "-Division: /\n",
      "-Exponentiation: ^ \n",
      "\n",
      "Enter the first number: 100\n",
      "Enter the second number: 0\n",
      "Enter math operator: /\n",
      "\n",
      "Can't divide by 0.\n",
      "Result:  100.0 / 0.0 = None\n",
      "Do you want to do another calculation?\n",
      "Enter 'yes' to continue, or 'no' to exit.no\n",
      "\n",
      "See you again soon. Have a nice day!\n"
     ]
    }
   ],
   "source": [
    "def addition(x, y):\n",
    "    return x + y\n",
    "\n",
    "def subtraction(x, y):\n",
    "    return x - y\n",
    "\n",
    "def multiply(x, y):\n",
    "    return x * y\n",
    "\n",
    "def division(x, y):\n",
    "    try:\n",
    "        y == 0\n",
    "        return x / y\n",
    "    except:\n",
    "        print(\"\\nCan't divide by 0.\")\n",
    "\n",
    "def exponentiation(x, y):\n",
    "    return x ** y\n",
    "\n",
    "def calculator():\n",
    "    \"\"\" This function acts as the main body for the calculator.\n",
    "    \"\"\"\n",
    "    \n",
    "    print(\"\"\"\\n The calculator can perform:\n",
    "-Addition: +\n",
    "-Subtraction: -\n",
    "-Multiply: *\n",
    "-Division: /\n",
    "-Exponentiation: ^ \"\"\")\n",
    "\n",
    "    #declare variables\n",
    "    #try and except test if user inputs a number or a string\n",
    "    while True:\n",
    "        try:\n",
    "            x = float(input(\"\\nEnter the first number: \"))\n",
    "            y = float(input(\"Enter the second number: \"))\n",
    "            break\n",
    "        except:\n",
    "            print(\"\\nInvalid: enter only number. Try again.\")    \n",
    "            \n",
    "    #declar operator variable\n",
    "    while True:\n",
    "        operator = input(\"Enter math operator: \")\n",
    "        operator_list = [\"+\", \"-\", \"*\", \"/\", \"^\"]\n",
    "        \n",
    "        if operator in operator_list:\n",
    "            if operator == \"+\":\n",
    "                print(\"Result: \", x, \"+\", y, \"=\", addition(x, y))\n",
    "\n",
    "            elif operator == \"-\":\n",
    "                print(\"Result: \", x, \"-\", y, \"=\", subtraction(x, y))\n",
    "\n",
    "            elif operator == \"*\":\n",
    "                print(\"Result: \", x, \"*\", y, \"=\", multiply(x, y))\n",
    "\n",
    "            elif operator == \"/\":\n",
    "                print(\"Result: \", x, \"/\", y, \"=\", division(x, y))\n",
    "\n",
    "            elif operator == \"^\":\n",
    "                print(\"Result: \", x, \"^\", y, \"=\", exponentiation(x, y))\n",
    "            break\n",
    "\n",
    "        else:\n",
    "            print(\"\\nInvalid operator, please try again.\")\n",
    "            \n",
    "    #call again function within calculation to ask if user want to continue\n",
    "    calculator_again()\n",
    "            \n",
    "            \n",
    "#define a function to ask if user want to do another calculation\n",
    "def calculator_again():\n",
    "    \"\"\" This function recalls the calculator again\n",
    "    The fuction is to be called within the calculator function body\"\"\"\n",
    "    \n",
    "    while True:\n",
    "        choice = input(\"\"\"Do you want to do another calculation?\n",
    "Enter 'yes' to continue, or 'no' to exit.\"\"\")\n",
    "        \n",
    "        if choice in (\"yes\", \"no\"):\n",
    "            if choice == \"yes\":\n",
    "                calculator()\n",
    "            elif choice == \"no\":\n",
    "                print(\"\\nSee you again soon. Have a nice day!\")\n",
    "            break\n",
    "        else:\n",
    "            print(\"\\nI do not understand your command, try again\")\n",
    "\n",
    "#call function to perform\n",
    "calculator()"
   ]
  },
  {
   "cell_type": "markdown",
   "metadata": {},
   "source": [
    "Exercise 2:"
   ]
  },
  {
   "cell_type": "code",
   "execution_count": 2,
   "metadata": {},
   "outputs": [],
   "source": [
    "# Print the first 10 natural numbers using a loop \n",
    "\n",
    "# Expected output: \n",
    "# 0\n",
    "# 1\n",
    "# 2\n",
    "# 3\n",
    "# 4\n",
    "# 5\n",
    "# 6\n",
    "# 7\n",
    "# 8\n",
    "# 9\n",
    "# 10"
   ]
  },
  {
   "cell_type": "markdown",
   "metadata": {},
   "source": [
    "Write your code below:"
   ]
  },
  {
   "cell_type": "code",
   "execution_count": 8,
   "metadata": {},
   "outputs": [
    {
     "name": "stdout",
     "output_type": "stream",
     "text": [
      "0\n",
      "1\n",
      "2\n",
      "3\n",
      "4\n",
      "5\n",
      "6\n",
      "7\n",
      "8\n",
      "9\n",
      "10\n"
     ]
    }
   ],
   "source": [
    "x = 0\n",
    "\n",
    "while x <= 10:\n",
    "    print(x)\n",
    "    x += 1\n"
   ]
  },
  {
   "cell_type": "markdown",
   "metadata": {},
   "source": [
    "Exercise 3:"
   ]
  },
  {
   "cell_type": "code",
   "execution_count": 4,
   "metadata": {},
   "outputs": [],
   "source": [
    "# Execute the loop in exercise 1 and print the message Done! after \n",
    "\n",
    "# Expected output: \n",
    "# 0\n",
    "# 1\n",
    "# 2\n",
    "# 3\n",
    "# 4\n",
    "# 5\n",
    "# 6\n",
    "# 7\n",
    "# 8\n",
    "# 9\n",
    "# 10\n",
    "# Done! "
   ]
  },
  {
   "cell_type": "markdown",
   "metadata": {},
   "source": [
    "Write your code below:"
   ]
  },
  {
   "cell_type": "code",
   "execution_count": 5,
   "metadata": {},
   "outputs": [
    {
     "name": "stdout",
     "output_type": "stream",
     "text": [
      "0\n",
      "1\n",
      "2\n",
      "3\n",
      "4\n",
      "5\n",
      "6\n",
      "7\n",
      "8\n",
      "9\n",
      "10\n",
      "Done!\n"
     ]
    }
   ],
   "source": [
    "x = 0\n",
    "\n",
    "while x <= 10:\n",
    "    print(x)\n",
    "    x += 1\n",
    "\n",
    "    if x > 10:\n",
    "        print(\"Done!\")\n"
   ]
  },
  {
   "cell_type": "markdown",
   "metadata": {},
   "source": [
    "Exercise 4:"
   ]
  },
  {
   "cell_type": "code",
   "execution_count": 6,
   "metadata": {},
   "outputs": [],
   "source": [
    "# Print the numbers greater than 150 from the list \n",
    "\n",
    "# list = [12, 15, 47, 63, 78, 101, 157, 178, 189]\n",
    "# Expected output: \n",
    "\n",
    "# 157\n",
    "# 178 \n",
    "# 189 "
   ]
  },
  {
   "cell_type": "markdown",
   "metadata": {},
   "source": [
    "Write your code below:"
   ]
  },
  {
   "cell_type": "code",
   "execution_count": 7,
   "metadata": {},
   "outputs": [
    {
     "name": "stdout",
     "output_type": "stream",
     "text": [
      "157\n",
      "178\n",
      "189\n"
     ]
    }
   ],
   "source": [
    "list = [12, 15, 47, 63, 78, 101, 157, 178, 189]\n",
    "\n",
    "for number in list:\n",
    "    if number > 150:\n",
    "        print(number)"
   ]
  },
  {
   "cell_type": "markdown",
   "metadata": {},
   "source": [
    "Exercise 5:"
   ]
  },
  {
   "cell_type": "code",
   "execution_count": 8,
   "metadata": {},
   "outputs": [],
   "source": [
    "# Print the number that is even and less than 150 \n",
    "\n",
    "# list = [12, 15, 47, 63, 78, 101, 157, 178, 189]\n",
    "# Expected output: \n",
    "\n",
    "# 12\n",
    "# 78\n",
    "\n",
    "# Hint: if you find a number greater than 150, stop the loop with a break"
   ]
  },
  {
   "cell_type": "markdown",
   "metadata": {},
   "source": [
    "Write your code below:"
   ]
  },
  {
   "cell_type": "code",
   "execution_count": 9,
   "metadata": {},
   "outputs": [
    {
     "name": "stdout",
     "output_type": "stream",
     "text": [
      "12\n",
      "78\n"
     ]
    }
   ],
   "source": [
    "list = [12, 15, 47, 63, 78, 101, 157, 178, 189]\n",
    "\n",
    "for number in list:\n",
    "    if number < 150 and number % 2 == 0:\n",
    "        print(number)"
   ]
  },
  {
   "cell_type": "markdown",
   "metadata": {},
   "source": [
    "Exercise 6:"
   ]
  },
  {
   "cell_type": "code",
   "execution_count": 10,
   "metadata": {},
   "outputs": [],
   "source": [
    "# This will be a challenging!\n",
    "\n",
    "# Write a while loop that flips a coin 10 times\n",
    "\n",
    "# Hint: Look into the random library using: \n",
    "# https://docs.python.org/3/library/random.html\n",
    "# https://www.pythonforbeginners.com/random/how-to-use-the-random-module-in-python"
   ]
  },
  {
   "cell_type": "markdown",
   "metadata": {},
   "source": [
    "Write your code below:"
   ]
  },
  {
   "cell_type": "code",
   "execution_count": 9,
   "metadata": {},
   "outputs": [
    {
     "name": "stdout",
     "output_type": "stream",
     "text": [
      "You got a tail. Value is 0\n",
      "You got a head. Value is 1\n",
      "You got a head. Value is 1\n",
      "You got a tail. Value is 0\n",
      "You got a tail. Value is 0\n",
      "You got a head. Value is 1\n",
      "You got a head. Value is 1\n",
      "You got a head. Value is 1\n",
      "You got a tail. Value is 0\n",
      "You got a tail. Value is 0\n",
      "\n",
      "You flipped HEAD 5 times, and TAIL 5 times.\n",
      "\n",
      "Do you want to flip coint again? \n",
      "Enter 'y' to flip, or 'n' to exit.\n",
      "y\n",
      "You got a tail. Value is 0\n",
      "You got a head. Value is 1\n",
      "You got a head. Value is 1\n",
      "You got a tail. Value is 0\n",
      "You got a tail. Value is 0\n",
      "You got a head. Value is 1\n",
      "You got a head. Value is 1\n",
      "You got a head. Value is 1\n",
      "You got a head. Value is 1\n",
      "You got a head. Value is 1\n",
      "\n",
      "You flipped HEAD 7 times, and TAIL 3 times.\n",
      "\n",
      "Do you want to flip coint again? \n",
      "Enter 'y' to flip, or 'n' to exit.\n",
      "n\n",
      "\n",
      "Bye bye.\n"
     ]
    }
   ],
   "source": [
    "import random\n",
    "\n",
    "head_count = []\n",
    "tail_count = []\n",
    "\n",
    "def flip_coin():\n",
    "    \"\"\"this function generates random value 0-1 for coin\n",
    "    1 is head\n",
    "    0 is tail\"\"\"\n",
    "\n",
    "    coin = random.randrange(2)\n",
    "\n",
    "    if coin == 1:\n",
    "        print(f\"You got a head. Value is {coin}\")\n",
    "        head_count.append(\"head\")\n",
    "    else:\n",
    "        print(f\"You got a tail. Value is {coin}\")\n",
    "        tail_count.append(\"tail\")\n",
    "\n",
    "def flip():\n",
    "    \"\"\"this function generate flipping coin 10 times\"\"\"\n",
    "\n",
    "    for x in range(10):\n",
    "        flip_coin()\n",
    "\n",
    "    print(f\"\\nYou flipped HEAD {len(head_count)} times, and TAIL {len(tail_count)} times.\\n\")\n",
    "    again()\n",
    "\n",
    "\n",
    "def again():\n",
    "    \"\"\"ask user if they want to flip coint again.\"\"\"\n",
    "\n",
    "    ask = input(\"Do you want to flip coint again? \\nEnter 'y' to flip, or 'n' to exit.\\n\")\n",
    "\n",
    "    if ask == \"y\":\n",
    "        #clear lists output to remains list length within 10\n",
    "        del head_count[:]\n",
    "        del tail_count[:]\n",
    "\n",
    "        #run flipping coin again\n",
    "        flip()\n",
    "        \n",
    "    elif ask == \"n\":\n",
    "        print(\"\\nBye bye.\")\n",
    "\n",
    "#call function\n",
    "flip()"
   ]
  }
 ],
 "metadata": {
  "kernelspec": {
   "display_name": "Python 3",
   "language": "python",
   "name": "python3"
  }
 },
 "nbformat": 4,
 "nbformat_minor": 2
}
