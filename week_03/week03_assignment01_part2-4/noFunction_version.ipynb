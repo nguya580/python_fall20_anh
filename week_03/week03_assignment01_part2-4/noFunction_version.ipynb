{
 "cells": [
  {
   "cell_type": "code",
   "execution_count": 1,
   "metadata": {},
   "outputs": [],
   "source": [
    "from newsapi import NewsApiClient\n",
    "import csv\n",
    "\n",
    "# Init\n",
    "newsapi = NewsApiClient(api_key='fdde27f8887d4a01bf80ebfe6a20295e')"
   ]
  },
  {
   "cell_type": "code",
   "execution_count": 2,
   "metadata": {},
   "outputs": [],
   "source": [
    "sources = newsapi.get_sources()\n",
    "\n",
    "#check how many news media id the API offers\n",
    "# for source in sources['sources']:\n",
    "#     print(source['id'] + '\\n' + source['language'] + '\\n' + source['country'] + '\\n\\n')"
   ]
  },
  {
   "cell_type": "code",
   "execution_count": 4,
   "metadata": {},
   "outputs": [
    {
     "name": "stdout",
     "output_type": "stream",
     "text": [
      "abc-news, bbc-news, bloomberg, business-insider, cbs-news, cnn, google-news, nbc-news, new-york-magazine, politico, reuters, the-verge, the-wall-street-journal, the-washington-post, the-washington-times, time, vice-news\n",
      "<class 'str'>\n"
     ]
    }
   ],
   "source": [
    "sources_list = ['abc-news', 'bbc-news', 'bloomberg', 'business-insider', 'cbs-news', 'cnn', 'google-news', 'nbc-news', 'new-york-magazine', 'politico', 'reuters', 'the-verge', 'the-wall-street-journal', 'the-washington-post', 'the-washington-times', 'time', 'vice-news']\n",
    "\n",
    "src_tostring = ', '.join(sources_list)\n",
    "\n",
    "print(src_tostring)\n",
    "print(type(src_tostring))"
   ]
  },
  {
   "cell_type": "code",
   "execution_count": 6,
   "metadata": {},
   "outputs": [
    {
     "name": "stdout",
     "output_type": "stream",
     "text": [
      "Published date: 2020-11-13T21:01:15+00:00\n",
      "Title: How Latino voters could swing the Georgia Senate runoffs\n",
      "Summary: Latino voters will play play a crucial role in determining the fate of the Senate with the upcoming runoff elections in Georgia. Chuck Rocha, a former top adviser for Bernie Sanders' campaign, joined CBSN to discuss how Democrats can reach out to Latinos and …\n",
      "\n",
      "Link: https://www.cbsnews.com/video/how-latino-voters-could-swing-the-georgia-senate-runoffs/\n",
      "\n",
      "\n",
      "Published date: 2020-11-13T19:31:00Z\n",
      "Title: Michigan Judge Denies Conservative Group's Request to Delay Detroit Election Certification\n",
      "Summary: Judge says allegations of misconduct and voter fraud are ‘incorrect and not credible’\n",
      "\n",
      "Link: https://www.wsj.com/articles/michigan-judge-denies-conservative-group-s-request-to-delay-detroit-election-certification-11605295879?mod=hp_lead_pos6\n",
      "\n",
      "\n",
      "Published date: 2020-11-13T19:23:40Z\n",
      "Title: Democrats keep winning the popular vote. That worries them.\n",
      "Summary: \n",
      "\n",
      "Link: https://abcnews.go.com/Politics/wireStory/democrats-winning-popular-vote-worries-74195840\n",
      "\n",
      "\n",
      "Published date: 2020-11-13T18:22:00+00:00\n",
      "Title: 2020 Election Live Updates: Biden-Harris transition team to hold press briefing\n",
      "Summary: President-elect Joe Biden picked up 11 more Electoral College votes as CBS News projected he won Arizona.\n",
      "\n",
      "Link: https://www.cbsnews.com/live-updates/2020-election-live-updates-2020-11-13/\n",
      "\n",
      "\n",
      "Published date: 2020-11-13T18:11:43Z\n",
      "Title: Opinion: What's next for the Trump show?\n",
      "Summary: While the Trump presidency has led to greater division within the country and a disastrous response to the pandemic, it also allowed Trump to expand his fan base to include 70 million voters and 90 million followers on Twitter, writes Michael D'Antonio.\n",
      "\n",
      "Link: http://us.cnn.com/2020/11/13/opinions/trump-future-politics-media-empire-dantonio/index.html\n",
      "\n",
      "\n",
      "Published date: 2020-11-13T15:31:30+00:00\n",
      "Title: GOP leaders: We’ll abide by popular vote, won’t give Michigan to Trump\n",
      "Summary: Donald Trump’s remote path to a second term is more narrow now that GOP lawmakers in Michigan say they won’t appoint the state’s 16 electors contrary to the popular vote. Trump’s best chance of\n",
      "\n",
      "Link: https://www.bridgemi.com/michigan-government/gop-leaders-well-abide-popular-vote-wont-give-michigan-trump\n",
      "\n",
      "\n",
      "Published date: 2020-11-13T12:41:00Z\n",
      "Title: Trump Cries Voter Fraud. In Court, His Lawyers Don’t.\n",
      "Summary: Pressed by judges, some attorneys representing Trump back away from claims\n",
      "\n",
      "Link: https://www.wsj.com/articles/trump-cries-election-fraud-in-court-his-lawyers-dont-11605271267?mod=hp_lead_pos12\n",
      "\n",
      "\n",
      "Published date: 2020-11-13T12:37:36.035168Z\n",
      "Title: US election: Biden extends lead over Trump with Arizona win\n",
      "Summary: A projected win in the usually Republican state takes Joe Biden to 290 electoral college votes.\n",
      "\n",
      "Link: http://www.bbc.co.uk/news/live/election-us-2020-54932067\n",
      "\n",
      "\n",
      "Published date: 2020-09-10T19:00:00Z\n",
      "Title: Presidential election results: Live map of 2020 electoral votes\n",
      "Summary: Results of the 2020 U.S. presidential election, including electoral votes between Trump and Biden in each state, and who is winning the popular vote.\n",
      "\n",
      "Link: https://www.nbcnews.com/politics/2020-elections/president-results\n",
      "\n",
      "\n",
      "Published date: 2020-05-28T14:19:42Z\n",
      "Title: ‘It's The End of Hong Kong’: The National Security Law China Just Approved Is The Protest Movement's Worst Nightmare\n",
      "Summary: The vote, while expected, sparked anger and despair in Hong Kong, where many fear it marks an end to the city’s freedoms.\n",
      "\n",
      "Link: https://www.vice.com/en_us/article/v7gepy/its-the-end-of-hong-kong-the-national-security-law-china-just-approved-is-the-protest-movements-worst-nightmare\n",
      "\n",
      "\n"
     ]
    }
   ],
   "source": [
    "top_headlines = newsapi.get_top_headlines(q = 'vote', sources = src_tostring)\n",
    "# print(top_headlines)\n",
    "\n",
    "csv_file = open('news_fromkeyword_python.csv', 'w')\n",
    "csv_writer = csv.writer(csv_file)\n",
    "\n",
    "csv_writer.writerow(['Published date', 'Title', 'Summary', 'Link'])\n",
    "\n",
    "for article in top_headlines['articles']:\n",
    "    date = article['publishedAt']\n",
    "    print('Published date: ' + date)\n",
    "\n",
    "    headline = article['title']\n",
    "    print('Title: ' + headline)\n",
    "\n",
    "    summary = article['description']\n",
    "    print('Summary: ' + summary + '\\n')\n",
    "\n",
    "    link = article['url']\n",
    "    print('Link: ' + link + '\\n\\n')\n",
    "\n",
    "    #write row for every founded article\n",
    "    csv_writer.writerow([date, headline, summary, link])\n",
    "\n",
    "csv_file.close()"
   ]
  },
  {
   "cell_type": "code",
   "execution_count": null,
   "metadata": {},
   "outputs": [],
   "source": []
  }
 ],
 "metadata": {
  "kernelspec": {
   "display_name": "Python 3",
   "language": "python",
   "name": "python3"
  },
  "language_info": {
   "codemirror_mode": {
    "name": "ipython",
    "version": 3
   },
   "file_extension": ".py",
   "mimetype": "text/x-python",
   "name": "python",
   "nbconvert_exporter": "python",
   "pygments_lexer": "ipython3",
   "version": "3.7.6"
  }
 },
 "nbformat": 4,
 "nbformat_minor": 4
}
