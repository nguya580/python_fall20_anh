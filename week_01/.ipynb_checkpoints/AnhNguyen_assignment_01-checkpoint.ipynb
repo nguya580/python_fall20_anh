{
 "cells": [
  {
   "cell_type": "markdown",
   "metadata": {},
   "source": [
    "### Assignment 1: Create your own calculator!"
   ]
  },
  {
   "cell_type": "markdown",
   "metadata": {},
   "source": [
    "Before we actually code in Python, please write out how you might build this with code in plain English (pseudocoding!). Pseudocode is an important part of programming and is used in planning an algorithm with sketching out the structure of the program before the actual coding takes place."
   ]
  },
  {
   "cell_type": "code",
   "execution_count": null,
   "metadata": {},
   "outputs": [],
   "source": [
    "# example psuedocode:\n",
    "# 1. A calculator will take in numbers that we want to use the operators on. So we want store user input\n",
    "# in variables. The first variable will store the first number, the second one will store the second number, \n",
    "# and the third will store the mathematical operator the user wants to perform on these numbers."
   ]
  },
  {
   "cell_type": "markdown",
   "metadata": {},
   "source": [
    "__Using conditionals, operators, and functions, try creating a working calculator! We will go over the solution next week.__\n",
    "\n",
    "_Things to consider:_\n",
    "\n",
    "<li>You may want to ask for user input: use the Python input() method. If you're asking for numbers, you may need to change the input value from a string to a number. Consider using int(x) and float(x) to do so.</li>\n",
    "<li>Use the operators with the conditionals we learned in class! Ex) if user_input == '*': print(x * y) </li>\n",
    "<li>Use if...elif conditionals!</li>\n",
    "<li>Before you put your code into a function for reusability purposes, hard code first to make sure your logic is working</li>\n",
    "<li>Keep it simple and use the four operators we went over in class: +, -, *, /</li>"
   ]
  },
  {
   "cell_type": "code",
   "execution_count": null,
   "metadata": {},
   "outputs": [],
   "source": [
    "#define functions for operators\n",
    "# x is the first number\n",
    "# y is the second number\n",
    "def addition(x, y):\n",
    "    return x + y\n",
    "\n",
    "def subtraction(x, y):\n",
    "    return x - y\n",
    "\n",
    "def multiply(x, y):\n",
    "    return x * y\n",
    "\n",
    "def division(x, y):\n",
    "    return x / y\n",
    "\n",
    "def exponentiation(x, y):\n",
    "    return x ** y\n",
    "\n",
    "#test if the functions work\n",
    "print(exponentiation(2, 4))"
   ]
  },
  {
   "cell_type": "code",
   "execution_count": null,
   "metadata": {},
   "outputs": [],
   "source": [
    "def calculator():\n",
    "    print(\"\"\"\\n The calculator can perform:\n",
    "-Addition: +\n",
    "-Subtraction: -\n",
    "-Multiply: *\n",
    "-Division: /\n",
    "-Exponentiation: ^ \"\"\")\n",
    "\n",
    "    \n",
    "    #declare variables\n",
    "    #try and except test if user inputs a number or a string\n",
    "    while True:\n",
    "        try:\n",
    "            x = float(input(\"\\nEnter the first number: \"))\n",
    "            y = float(input(\"Enter the second number: \"))\n",
    "            break\n",
    "        except:\n",
    "            print(\"\\nInvalid: enter only number. Try again.\")\n",
    "            \n",
    "            \n",
    "    #declar operator variable\n",
    "    while True:\n",
    "        operator = input(\"Enter math operator: \")\n",
    "        operator_list = [\"+\", \"-\", \"*\", \"/\", \"^\"]\n",
    "        \n",
    "        if operator in operator_list:\n",
    "            if operator == \"+\":\n",
    "                print(\"Result: \", x, \"+\", y, \"=\", addition(x, y))\n",
    "\n",
    "            elif operator == \"-\":\n",
    "                print(\"Result: \", x, \"-\", y, \"=\", subtraction(x, y))\n",
    "\n",
    "            elif operator == \"*\":\n",
    "                print(\"Result: \", x, \"*\", y, \"=\", multiply(x, y))\n",
    "\n",
    "            elif operator == \"/\":\n",
    "                print(\"Result: \", x, \"/\", y, \"=\", division(x, y))\n",
    "\n",
    "            elif operator == \"^\":\n",
    "                print(\"Result: \", x, \"^\", y, \"=\", exponentiation(x, y))\n",
    "            break\n",
    "\n",
    "        else:\n",
    "            print(\"\\nInvalid operator, please try again.\")\n",
    "            \n",
    "    #call again function within calculation to ask if user want to continue\n",
    "    calculator_again()\n",
    "            \n",
    "            \n",
    "#define a function to ask if user want to do another calculation\n",
    "def calculator_again():\n",
    "    \n",
    "    while True:\n",
    "        choice = input(\"\"\"Do you want to do another calculation?\n",
    "Enter 'yes' to continue, or 'no' to exit.\"\"\")\n",
    "        \n",
    "        if choice in (\"yes\", \"no\"):\n",
    "            if choice == \"yes\":\n",
    "                calculator()\n",
    "            elif choice == \"no\":\n",
    "                print(\"\\nSee you again soon. Have a nice day!\")\n",
    "            break\n",
    "        else:\n",
    "            print(\"\\nI do not understand your command, try again\")"
   ]
  },
  {
   "cell_type": "code",
   "execution_count": null,
   "metadata": {},
   "outputs": [],
   "source": [
    "#call function to perform\n",
    "calculator()"
   ]
  }
 ],
 "metadata": {
  "kernelspec": {
   "display_name": "Python 3",
   "language": "python",
   "name": "python3"
  },
  "language_info": {
   "codemirror_mode": {
    "name": "ipython",
    "version": 3
   },
   "file_extension": ".py",
   "mimetype": "text/x-python",
   "name": "python",
   "nbconvert_exporter": "python",
   "pygments_lexer": "ipython3",
   "version": "3.7.6"
  }
 },
 "nbformat": 4,
 "nbformat_minor": 4
}
