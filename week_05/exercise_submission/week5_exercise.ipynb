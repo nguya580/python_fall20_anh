{
 "cells": [
  {
   "cell_type": "markdown",
   "metadata": {},
   "source": [
    "# This will create a generic Student class"
   ]
  },
  {
   "cell_type": "code",
   "execution_count": 1,
   "metadata": {
    "jupyter": {
     "outputs_hidden": false,
     "source_hidden": false
    },
    "nteract": {
     "transient": {
      "deleting": false
     }
    }
   },
   "outputs": [
    {
     "name": "stdout",
     "output_type": "stream",
     "text": [
      "Anh Nguyen is a student of Newbury College.\n",
      "Anh Nguyen is a student of Suffolk University.\n"
     ]
    }
   ],
   "source": [
    "\n",
    "class Student:\n",
    "    def __init__(self, school, first, last):\n",
    "        self.school = school\n",
    "        self.first = first\n",
    "        self.last = last\n",
    "\n",
    "    def updated_school(self, updated_school):\n",
    "        self.school = updated_school\n",
    "\n",
    "    def updated_first(self, updated_first):\n",
    "        self.first = updated_first\n",
    "\n",
    "    def update_last(self, update_last):\n",
    "        self.last = update_last\n",
    "\n",
    "    # __str__ is used for creating output for end user\n",
    "    # __str__ will return a human readable string.\n",
    "    def __str__(self):\n",
    "        return f\"{self.first} {self.last} is a student of {self.school}.\"\n",
    "\n",
    "student1 = Student(\"Newbury College\", \"Anh\", \"Nguyen\") # (self, school, first, last)\n",
    "\n",
    "print(student1)\n",
    "\n",
    "student1.updated_school(\"Suffolk University\")\n",
    "\n",
    "print(student1)\n"
   ]
  },
  {
   "cell_type": "markdown",
   "metadata": {},
   "source": [
    "# Challenge 1 and 2\n",
    "\n",
    "Add an class wide attribute student count and give every student an ID Create a Class wide count of students that tracks how many students have been created. Then, usi that attriute to give every student a unique ID.\n",
    "\n",
    "Implement the method and the appropriate attributes that allows a student to print a statement about themselves. These can be as simple as \"say my own name\" or something like printing the student's favorite faculty member"
   ]
  },
  {
   "cell_type": "code",
   "execution_count": 4,
   "metadata": {
    "jupyter": {
     "outputs_hidden": false,
     "source_hidden": false
    },
    "nteract": {
     "transient": {
      "deleting": false
     }
    }
   },
   "outputs": [
    {
     "name": "stdout",
     "output_type": "stream",
     "text": [
      "Here are the ID of students: anhngu192, linle835, phungu930\n",
      "Phuong Nguyen wants to say that 'I like my classmates.'\n"
     ]
    }
   ],
   "source": [
    "# Challenge #1 add an class wide attribute student count and give every student an ID\n",
    "# Challenge #2 add a behavioral method to the stud\n",
    "\n",
    "import random\n",
    "\n",
    "class Student:\n",
    "\n",
    "    count = 0\n",
    "\n",
    "    def __init__(self, school, first, last):\n",
    "        self.school = school\n",
    "        self.first = first\n",
    "        self.last = last\n",
    "\n",
    "        Student.count += 1\n",
    "\n",
    "    def updated_school(self, updated_school):\n",
    "        self.school = updated_school\n",
    "\n",
    "    def updated_first(self, updated_first):\n",
    "        self.first = updated_first\n",
    "\n",
    "    def update_last(self, update_last):\n",
    "        self.last = update_last\n",
    "\n",
    "    def print_id(self):\n",
    "        self.id = f\"{self.first[0:3].lower()}{self.last[0:3].lower()}{random.randint(100,999)}\"\n",
    "        return self.id\n",
    "\n",
    "    def statement(self, statement):\n",
    "        self.statement = statement\n",
    "        return f\"{self.first} {self.last} wants to say that '{self.statement}'\"\n",
    "\n",
    "    # __str__ is used for creating output for end user\n",
    "    # __str__ will return a human readable string.\n",
    "    def __str__(self):\n",
    "        return f\"{self.first} {self.last} is a student of {self.school}.\"\n",
    "\n",
    "student1 = Student(\"Suffolk University\", \"Anh\", \"Nguyen\")\n",
    "student2 = Student(\"NESAD\", \"Linh\", \"Le\")\n",
    "student3 = Student(\"NESAD\", \"Phuong\", \"Nguyen\")\n",
    "\n",
    "print(f\"Here are the ID of students: {student1.print_id()}, {student2.print_id()}, {student3.print_id()}\")\n",
    "\n",
    "print(student3.statement(\"I like my classmates.\"))\n"
   ]
  },
  {
   "cell_type": "markdown",
   "metadata": {},
   "source": [
    "# Challenge 3\n",
    "\n",
    "Create a **subclass** called Graduate Student The Graduate student should inherit from the base Student class. How do you think Graduate Students should be differentiated from the base Student? Add your own attribute or methods that you think they should have."
   ]
  },
  {
   "cell_type": "code",
   "execution_count": 7,
   "metadata": {
    "jupyter": {
     "outputs_hidden": false,
     "source_hidden": false
    },
    "nteract": {
     "transient": {
      "deleting": false
     }
    }
   },
   "outputs": [
    {
     "data": {
      "text/plain": [
       "'Teddy Nguyen is a student in the MFA program at Parsons.'"
      ]
     },
     "execution_count": 7,
     "metadata": {},
     "output_type": "execute_result"
    }
   ],
   "source": [
    "\n",
    "class GradStudent(Student):\n",
    "\n",
    "    count = 0\n",
    "\n",
    "    def __init__(self, school, degree, first, last):\n",
    "        super().__init__(school, first, last)\n",
    "        self.degree = degree\n",
    "        GradStudent.count += 1\n",
    "\n",
    "    def show_degree(self):\n",
    "        return f\"{self.first} {self.last} is a student in the {self.degree} program at {self.school}.\"\n",
    "\n",
    "    def print_id(self):\n",
    "        self.id = f\"{self.first[0:3].lower()}{self.last[0:3].lower()}{random.randint(100,999)}\"\n",
    "        return self.id\n",
    "\n",
    "    # __str__ is used for creating output for end user\n",
    "    # __str__ will return a human readable string.\n",
    "    def __str__(self):\n",
    "        return f\"{self.first} {self.last} is a graduate student of {self.school}.\"\n",
    "\n",
    "grad_student1 = GradStudent('Parsons', 'MFA', 'Teddy', 'Nguyen')\n",
    "grad_student1.show_degree()\n",
    "# grad_student1.print_id()\n"
   ]
  },
  {
   "cell_type": "markdown",
   "metadata": {},
   "source": [
    "# Challenge 4 \n",
    "\n",
    "Create a School Class that has Students as attributes This is a separate class that is called School that can enroll Students, and graduate students. Maybe it can track its own endowment. This would be a large class that is meant to process these students in some way."
   ]
  },
  {
   "cell_type": "code",
   "execution_count": 8,
   "metadata": {
    "jupyter": {
     "outputs_hidden": false,
     "source_hidden": false
    },
    "nteract": {
     "transient": {
      "deleting": false
     }
    }
   },
   "outputs": [
    {
     "name": "stdout",
     "output_type": "stream",
     "text": [
      "Here is a list of students in School of Thoughts:\n",
      "\n",
      "Anh Nguyen is a student of Suffolk University.\n",
      "Linh Le is a student of NESAD.\n",
      "Phuong Nguyen is a student of NESAD.\n",
      "Teddy Nguyen is a graduate student of Parsons.\n"
     ]
    }
   ],
   "source": [
    "\n",
    "class School:\n",
    "\n",
    "    def __init__(self, name):\n",
    "        self.name = name\n",
    "        self.students = []\n",
    "\n",
    "    def enroll_student(self, student):\n",
    "        self.students.append(student)\n",
    "\n",
    "    def print_student(self):\n",
    "        print(f\"Here is a list of students in {self.name}:\\n\")\n",
    "        for student in self.students:\n",
    "            print(student)\n",
    "\n",
    "schoolOfThoughts = School(\"School of Thoughts\")\n",
    "\n",
    "schoolOfThoughts.enroll_student(student1)\n",
    "schoolOfThoughts.enroll_student(student2)\n",
    "schoolOfThoughts.enroll_student(student3)\n",
    "schoolOfThoughts.enroll_student(grad_student1)\n",
    "\n",
    "schoolOfThoughts.print_student()"
   ]
  }
 ],
 "metadata": {
  "kernelspec": {
   "display_name": "Python 3",
   "language": "python",
   "name": "python3"
  },
  "language_info": {
   "codemirror_mode": {
    "name": "ipython",
    "version": 3
   },
   "file_extension": ".py",
   "mimetype": "text/x-python",
   "name": "python",
   "nbconvert_exporter": "python",
   "pygments_lexer": "ipython3",
   "version": "3.7.6"
  }
 },
 "nbformat": 4,
 "nbformat_minor": 1
}
